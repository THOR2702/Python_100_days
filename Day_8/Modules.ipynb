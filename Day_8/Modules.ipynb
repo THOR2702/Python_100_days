{
 "cells": [
  {
   "cell_type": "code",
   "execution_count": 1,
   "id": "def8fb65-6bd2-4d62-91b4-d86874d84880",
   "metadata": {},
   "outputs": [],
   "source": [
    "import I_am_a_module"
   ]
  },
  {
   "cell_type": "code",
   "execution_count": 2,
   "id": "3a8be033-632e-47bd-b3bc-4e71a648633c",
   "metadata": {},
   "outputs": [
    {
     "name": "stdout",
     "output_type": "stream",
     "text": [
      "['__builtins__', '__cached__', '__doc__', '__file__', '__loader__', '__name__', '__package__', '__spec__', 'sum']\n"
     ]
    }
   ],
   "source": [
    "print(dir(I_am_a_module))"
   ]
  },
  {
   "cell_type": "code",
   "execution_count": 6,
   "id": "2a325bf1-a6c1-4b15-b439-0c41b204b533",
   "metadata": {},
   "outputs": [
    {
     "data": {
      "text/plain": [
       "5"
      ]
     },
     "execution_count": 6,
     "metadata": {},
     "output_type": "execute_result"
    }
   ],
   "source": [
    "I_am_a_module.sum(2,3)"
   ]
  },
  {
   "cell_type": "code",
   "execution_count": null,
   "id": "b1b87dbd-c0b8-4e62-beac-962cb95b0db6",
   "metadata": {},
   "outputs": [],
   "source": []
  }
 ],
 "metadata": {
  "kernelspec": {
   "display_name": "Python 3 (ipykernel)",
   "language": "python",
   "name": "python3"
  },
  "language_info": {
   "codemirror_mode": {
    "name": "ipython",
    "version": 3
   },
   "file_extension": ".py",
   "mimetype": "text/x-python",
   "name": "python",
   "nbconvert_exporter": "python",
   "pygments_lexer": "ipython3",
   "version": "3.11.7"
  }
 },
 "nbformat": 4,
 "nbformat_minor": 5
}
